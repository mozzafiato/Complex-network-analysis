{
 "cells": [
  {
   "cell_type": "code",
   "execution_count": 7,
   "metadata": {
    "pycharm": {
     "is_executing": true
    }
   },
   "outputs": [],
   "source": [
    "import itertools\n",
    "import random\n",
    "import numpy as np\n",
    "from scipy.optimize import curve_fit\n",
    "import matplotlib.pyplot as plt\n",
    "import itertools as it\n",
    "%matplotlib inline\n",
    "import networkx as nx\n",
    "from collections import Counter"
   ]
  },
  {
   "cell_type": "code",
   "execution_count": 3,
   "metadata": {},
   "outputs": [],
   "source": [
    "# Run this only in Colab environment\n",
    "# from google.colab import drive\n",
    "# drive.mount('/content/gdrive')\n",
    "# path = '/content/gdrive/My Drive/<your_gdrivefolder>/data/'\n",
    "###############################################################\n",
    "# for local storage\n",
    "path = '../data/'"
   ]
  },
  {
   "cell_type": "markdown",
   "metadata": {},
   "source": [
    "# real-world data and friendship paradox"
   ]
  },
  {
   "cell_type": "markdown",
   "metadata": {},
   "source": [
    "## Exercise (12pts)\n",
    "\n",
    "Compare three real-world datasets:\n",
    "\n",
    "`protein.edgelist.txt`\n",
    "\n",
    "`collaboration.edgelist.txt`\n",
    "\n",
    "`powergrid.edgelist.txt`\n",
    "\n",
    "1. Plot the cumulative degree distribution for each network\n",
    "2. Can you tell whether it is power-law or exponentially distributed?\n",
    "3. Estimate the exponent or the decay parameter in the exponential case, respectively.\n",
    "   (a rough approximation is enough, no optimized fitting needed)\n",
    "\n",
    "4. Write a function to compute the average next-nearest-neighbor degree\n",
    "5. Identify the friendship paradox\n",
    "6. Compare with the analytical result from the paper exercise "
   ]
  },
  {
   "cell_type": "code",
   "execution_count": 19,
   "metadata": {},
   "outputs": [],
   "source": [
    "# read graphs\n",
    "G1 = nx.read_edgelist(path + \"protein.edgelist.txt\")\n",
    "G2 = nx.read_edgelist(path + \"collaboration.edgelist.txt\")\n",
    "G3 = nx.read_edgelist(path + \"powergrid.edgelist.txt\")\n",
    "\n",
    "Gs = [G1, G2, G3]\n",
    "names = [\"Protein Graph\", \"Collaboration Graph\", \"Powergrid Graph\"]"
   ]
  },
  {
   "cell_type": "code",
   "execution_count": 57,
   "metadata": {},
   "outputs": [
    {
     "data": {
      "image/png": "[encoded data removed]",
      "text/plain": [
       "<Figure size 432x288 with 1 Axes>"
      ]
     },
     "metadata": {
      "needs_background": "light"
     },
     "output_type": "display_data"
    },
    {
     "name": "stdout",
     "output_type": "stream",
     "text": [
      "Power law distribution\n",
      "Average number of friends of friends 11.111262798634812\n",
      "Percentage of nodes that have have fewer friends than their friends have: 0.7492566897918731\n"
     ]
    },
    {
     "data": {
      "image/png": "[encoded data removed]",
      "text/plain": [
       "<Figure size 432x288 with 1 Axes>"
      ]
     },
     "metadata": {
      "needs_background": "light"
     },
     "output_type": "display_data"
    },
    {
     "name": "stdout",
     "output_type": "stream",
     "text": [
      "Exponential distribution\n",
      "Average number of friends of friends 22.058123481629725\n",
      "Percentage of nodes that have have fewer friends than their friends have: 0.8279514114036225\n"
     ]
    },
    {
     "data": {
      "image/png": "[encoded data removed]",
      "text/plain": [
       "<Figure size 432x288 with 1 Axes>"
      ]
     },
     "metadata": {
      "needs_background": "light"
     },
     "output_type": "display_data"
    },
    {
     "name": "stdout",
     "output_type": "stream",
     "text": [
      "Exponential distribution\n",
      "Average number of friends of friends 3.8712465878070974\n",
      "Percentage of nodes that have have fewer friends than their friends have: 0.6767860756931795\n"
     ]
    }
   ],
   "source": [
    "# function that computes the average next-nearest-neighbor degree\n",
    "def average_nn(G):\n",
    "    ki = [val for (node, val) in G.degree()]\n",
    "    ki2 = [val ** 2 for (node, val) in G.degree()]\n",
    "    return sum(ki2)/sum(ki)\n",
    "\n",
    "\n",
    "# function that identifies friendship paradox\n",
    "def friendship_paradox_percentage(G):\n",
    "    friends_friends_avg = dict()\n",
    "    for node in G.nodes():\n",
    "        fr = 0\n",
    "        for n in G.neighbors(node):\n",
    "            fr += len(list(G.neighbors(n)))\n",
    "        friends_friends_avg[node] = fr / len(list(G.neighbors(node)))\n",
    "\n",
    "    #average_friend_of_friends = sum(friends_friends_avg.values()) / len(friends_friends_avg)\n",
    "\n",
    "    # count how many nodes have the friendship paradox\n",
    "    fi = 0\n",
    "    for node in G.nodes():\n",
    "        if friends_friends_avg[node] > len(list(G.neighbors(node))):\n",
    "            fi+=1\n",
    "            \n",
    "    return fi / G.number_of_nodes()\n",
    "\n",
    "\n",
    "\n",
    "i = 0\n",
    "for G in Gs:\n",
    "\n",
    "    # plot cumulative degree distribution \n",
    "    degree_sequence = sorted([d for n, d in G.degree()], reverse=True)  # degree sequence\n",
    "    degreeCount = Counter(degree_sequence)\n",
    "    deg, cnt = zip(*degreeCount.items())\n",
    "    cs = np.cumsum(cnt)\n",
    "    plt.loglog(deg, cs, 'bo')\n",
    "    plt.title(\"Cumulative Distribution plot - \" + names[i])\n",
    "    plt.ylabel(\"P(k)\")\n",
    "    plt.xlabel(\"k\")\n",
    "    plt.show()\n",
    "    i+=1\n",
    "    \n",
    "    if i == 1:\n",
    "        print('Power law distribution')\n",
    "    else:\n",
    "        print('Exponential distribution')\n",
    "        \n",
    "    knn = average_nn(G)\n",
    "    print('Average number of friends of friends', knn)\n",
    "    \n",
    "    print('Percentage of nodes that have have fewer friends than their friends have:',\n",
    "         friendship_paradox_percentage(G))\n",
    "    \n"
   ]
  }
 ],
 "metadata": {
  "interpreter": {
   "hash": "aee8b7b246df8f9039afb4144a1f6fd8d2ca17a180786b69acc140d282b71a49"
  },
  "kernelspec": {
   "display_name": "Python 3",
   "language": "python",
   "name": "python3"
  },
  "language_info": {
   "codemirror_mode": {
    "name": "ipython",
    "version": 3
   },
   "file_extension": ".py",
   "mimetype": "text/x-python",
   "name": "python",
   "nbconvert_exporter": "python",
   "pygments_lexer": "ipython3",
   "version": "3.7.4"
  }
 },
 "nbformat": 4,
 "nbformat_minor": 2
}
