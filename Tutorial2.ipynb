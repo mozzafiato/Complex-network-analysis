{
 "cells": [
  {
   "cell_type": "code",
   "execution_count": null,
   "source": [
    "import networkx as nx\n",
    "import numpy as np\n",
    "from IPython.display import Image\n",
    "import itertools as it\n",
    "import matplotlib.pyplot as plt\n",
    "\n",
    "%matplotlib inline"
   ],
   "outputs": [],
   "metadata": {
    "collapsed": true
   }
  },
  {
   "cell_type": "code",
   "execution_count": null,
   "source": [
    "# Run this only in Colab environment\n",
    "# from google.colab import drive\n",
    "# drive.mount('/content/gdrive')\n",
    "# path = '/content/gdrive/My Drive/<your_gdrivefolder>/data/'\n",
    "###############################################################\n",
    "# for local storage\n",
    "path = '../data/'"
   ],
   "outputs": [],
   "metadata": {}
  },
  {
   "cell_type": "markdown",
   "source": [
    "# Chapter 2 Tutorial\n",
    "\n",
    "Note that many exercises are followed by a block with some `assert` statements. These assertions may be preceded by some setup code. They are provided to give you feedback that you are on the right path -- receiving an `AssertionError` probably means you've done something wrong.\n",
    "\n",
    "Contents:\n",
    "\n",
    "1. Degree\n",
    "2. Adjacency matrix\n",
    "3. Paths\n",
    "4. Directed paths and components\n",
    "5. dataset: The Vienna-subway-network "
   ],
   "metadata": {}
  },
  {
   "cell_type": "markdown",
   "source": [
    "# 1. degree , average degree and degree distribution\n",
    "\n",
    "Let's start with a very simple, undirected network.\n"
   ],
   "metadata": {}
  },
  {
   "cell_type": "code",
   "execution_count": null,
   "source": [
    "G = nx.Graph()\n",
    "\n",
    "G.add_nodes_from(['a','b','c','d','e'])\n",
    "\n",
    "G.add_edges_from([('a','b'),('b','c'),('a','c'),('a','d'),('c','e')])\n",
    "\n",
    "nx.draw(G, with_labels=True)"
   ],
   "outputs": [],
   "metadata": {}
  },
  {
   "cell_type": "markdown",
   "source": [
    "the degree of a node (i.e. the number of connected neighbors) is often the most important node property"
   ],
   "metadata": {}
  },
  {
   "cell_type": "code",
   "execution_count": null,
   "source": [
    "# as a method:\n",
    "print(dict(G.degree()))"
   ],
   "outputs": [],
   "metadata": {}
  },
  {
   "cell_type": "code",
   "execution_count": null,
   "source": [
    "# as a function\n",
    "print(dict(nx.degree(G)))"
   ],
   "outputs": [],
   "metadata": {}
  },
  {
   "cell_type": "markdown",
   "source": [
    "sorting the nodes according to their degree:"
   ],
   "metadata": {}
  },
  {
   "cell_type": "code",
   "execution_count": null,
   "source": [
    "# simple sorting of the dictionary only leads to a sorting of node names\n",
    "print(sorted(dict(G.degree()).items()))\n"
   ],
   "outputs": [],
   "metadata": {}
  },
  {
   "cell_type": "code",
   "execution_count": null,
   "source": [
    "# using the anonymous lambda function is a way to make the 2nd argument being the sorting key\n",
    "# by default it sorts in ascending order \n",
    "# by setting reverse = True you can get the node with the highest degree first\n",
    "\n",
    "print(sorted(dict(G.degree()).items(),key = lambda x: x[1], reverse = True))\n",
    "\n"
   ],
   "outputs": [],
   "metadata": {}
  },
  {
   "cell_type": "markdown",
   "source": [
    "degree distribution"
   ],
   "metadata": {}
  },
  {
   "cell_type": "code",
   "execution_count": null,
   "source": [
    "# counting the number of neighbors:\n",
    "l_k = list(dict(G.degree()).values())\n",
    "print('all occuring degrees: ', l_k)\n",
    "\n",
    "# the set operation makes entries unique\n",
    "s_k = set(l_k)\n",
    "print('set of degrees', s_k)\n",
    "\n",
    "# # counting the number of neighbors and store it into a dict\n",
    "dict_k_frequency = {}\n",
    "for k in s_k:\n",
    "    dict_k_frequency[k] = l_k.count(k)\n",
    "\n",
    "print('dictionary with degrees as keys and frequency as values: ', dict_k_frequency)\n",
    "\n",
    "# note, for larger lists (N>1000) the .count method becomes inefficient\n",
    "# use the Counter module instead\n",
    "\n",
    "\n"
   ],
   "outputs": [],
   "metadata": {}
  },
  {
   "cell_type": "code",
   "execution_count": null,
   "source": [
    "# plot the degree distribution as a bar plot\n",
    "\n",
    "plt.bar(dict_k_frequency.keys(), dict_k_frequency.values(),width=.4)\n",
    "plt.xlabel('degree',fontsize = 16)\n",
    "plt.ylabel('frequency',fontsize = 16)\n",
    "\n"
   ],
   "outputs": [],
   "metadata": {}
  },
  {
   "cell_type": "markdown",
   "source": [
    "# Exercise 1 (3pts)\n",
    "Write a function that gets a Graph object as input and \n",
    "\n",
    "returns the average degree and the standard deviation -\n",
    "\n",
    "test your function with the karate edgelist (see tutorial 0) \n",
    "\n",
    "plot the degree distribution of the karate network\n"
   ],
   "metadata": {}
  },
  {
   "cell_type": "code",
   "execution_count": null,
   "source": [
    "def avg_std_degree(G):\n",
    "    ...\n",
    "    \n"
   ],
   "outputs": [],
   "metadata": {}
  },
  {
   "cell_type": "code",
   "execution_count": null,
   "source": [],
   "outputs": [],
   "metadata": {}
  },
  {
   "cell_type": "markdown",
   "source": [
    "# 2. Adjacency matrix\n",
    "\n",
    "there is a networkx function that comuputes the adjacency matrix directly "
   ],
   "metadata": {}
  },
  {
   "cell_type": "code",
   "execution_count": null,
   "source": [
    "G = nx.Graph()\n",
    "G.add_nodes_from(['a','b','c','d','e'])\n",
    "G.add_edges_from([('a','b'),('b','c'),('a','c'),('a','d'),('c','e')])\n",
    "\n",
    "nx.draw(G, with_labels=True)\n",
    "\n",
    "adj_matrix = nx.adjacency_matrix(G)\n",
    "\n",
    "print(adj_matrix)"
   ],
   "outputs": [],
   "metadata": {}
  },
  {
   "cell_type": "code",
   "execution_count": null,
   "source": [
    "# The adjacency matrix has the scipy sparse type format to save memory: \n",
    "print(type(adj_matrix))\n",
    "\n",
    "# plot it as a numpy matrix:\n",
    "\n",
    "adj_matrix_np = adj_matrix.todense()\n",
    "print(adj_matrix_np)"
   ],
   "outputs": [],
   "metadata": {}
  },
  {
   "cell_type": "code",
   "execution_count": null,
   "source": [
    "# plot your adjacency matrix as a heatmap\n",
    "plt.imshow(adj_matrix_np,cmap=plt.get_cmap('binary'))"
   ],
   "outputs": [],
   "metadata": {}
  },
  {
   "cell_type": "code",
   "execution_count": null,
   "source": [
    "# it also works the other way around\n",
    "# you can define a numpy matrix and convert it into a Graph object\n",
    "\n",
    "N = 8\n",
    "A = np.random.randint(2,size=(N,N))  # generate a matrix randomly filled with 0 and 1\n",
    "A_symmetric = np.tril(A) + np.tril(A, -1).T # make it symmetric (to get an undirected network)\n",
    "np.fill_diagonal(A_symmetric, 0) # write zeros on the diagonal to avoid selfloops\n",
    "\n",
    "print(type(A_symmetric))\n",
    "# print(A_symmetric)"
   ],
   "outputs": [],
   "metadata": {}
  },
  {
   "cell_type": "code",
   "execution_count": null,
   "source": [
    "\n",
    "G = nx.from_numpy_array(A_symmetric)\n",
    "\n",
    "nx.draw(G,\n",
    "        with_labels=True,\n",
    "        node_color='#d2323c',\n",
    "        edge_color='#777777',\n",
    "        node_size=300,\n",
    "        font_color='white',\n",
    "        font_size=12,\n",
    "        )\n"
   ],
   "outputs": [],
   "metadata": {}
  },
  {
   "cell_type": "code",
   "execution_count": null,
   "source": [
    "# same for directed network:\n",
    "\n",
    "N = 8\n",
    "A = np.random.randint(2,size=(N,N))  # generate a matrix randomly filled with 0 and 1\n",
    "A[np.tril_indices(A.shape[0], -1)] = 0  # set the lower left triangle   \n",
    "\n",
    "# A_symmetric = np.tril(A) + np.tril(A, -1).T # make it symmetric (to get an undirected network)\n",
    "np.fill_diagonal(A, 0) # write zeros on the diagonal to avoid selfloops\n",
    "print(A)\n",
    "\n",
    "# make explicit that you want the network to be directed\n",
    "G = nx.from_numpy_array(A,create_using=nx.DiGraph)\n",
    "\n",
    "nx.draw(G,\n",
    "        with_labels=True,\n",
    "        node_color='#f8b100',\n",
    "        edge_color='#333333',\n",
    "        node_size=300,\n",
    "        font_color='white',\n",
    "        font_size=12,\n",
    "        )\n",
    "\n"
   ],
   "outputs": [],
   "metadata": {}
  },
  {
   "cell_type": "markdown",
   "source": [
    "# 3. Paths\n",
    "\n"
   ],
   "metadata": {}
  },
  {
   "cell_type": "code",
   "execution_count": null,
   "source": [
    "G = nx.Graph()\n",
    "\n",
    "G.add_nodes_from([1,2,3,4])\n",
    "\n",
    "G.add_edges_from([(1,2),(2,3),(1,3),(1,4)])\n",
    "\n",
    "nx.draw(G, with_labels=True)"
   ],
   "outputs": [],
   "metadata": {}
  },
  {
   "cell_type": "markdown",
   "source": [
    "A *path* in a network is a sequence of edges connecting two nodes. In this simple example, we can easily see that there is indeed at least one path that connects nodes 3 and 4. We can verify this with NetworkX:"
   ],
   "metadata": {}
  },
  {
   "cell_type": "code",
   "execution_count": null,
   "source": [
    "nx.has_path(G, 3, 4)"
   ],
   "outputs": [],
   "metadata": {}
  },
  {
   "cell_type": "markdown",
   "source": [
    "There can be more than one path between two nodes. Again considering nodes 3 and 4, there are two such \"simple\" paths:"
   ],
   "metadata": {}
  },
  {
   "cell_type": "code",
   "execution_count": null,
   "source": [
    "list(nx.all_simple_paths(G, 3, 4))"
   ],
   "outputs": [],
   "metadata": {}
  },
  {
   "cell_type": "markdown",
   "source": [
    "A simple path is one without any cycles. If we allowed cycles, there would be infinitely many paths because one could always just go around the cycle as many times as desired.\n",
    "\n",
    "We are often most interested in *shortest* paths. In an unweighted network, the shortest path is the one with the fewest edges. We can see that of the two simple paths between nodes 3 and 4, one is shorter than the other. We can get this shortest path with a single NetworkX function:"
   ],
   "metadata": {}
  },
  {
   "cell_type": "code",
   "execution_count": null,
   "source": [
    "nx.shortest_path(G, 3, 4)"
   ],
   "outputs": [],
   "metadata": {}
  },
  {
   "cell_type": "markdown",
   "source": [
    "If you only care about the path length, there's a function for that too:"
   ],
   "metadata": {}
  },
  {
   "cell_type": "code",
   "execution_count": null,
   "source": [
    "nx.shortest_path_length(G, 3, 4)"
   ],
   "outputs": [],
   "metadata": {}
  },
  {
   "cell_type": "markdown",
   "source": [
    "Note that a path length is defined here by the number of *edges* in the path, not the number of nodes, which implies\n",
    "\n",
    "    nx.shortest_path_length(G, u, v) == len(nx.shortest_path(G, u, v)) - 1\n",
    "    \n",
    "for nodes $u$ and $v$."
   ],
   "metadata": {}
  },
  {
   "cell_type": "markdown",
   "source": [
    "# Exercise 2 (3 pts)\n",
    "\n",
    "o Write the adjacency matrix and the edgelist of the network from paper-exercise 3\n",
    "\n",
    "o Compute the clustering coefficient, diameter and density\n",
    "\n",
    "o Find the number of d=3 paths between 2 and 3\n",
    "\n",
    "o Which node pair has the most d=3 paths? \n"
   ],
   "metadata": {}
  },
  {
   "cell_type": "code",
   "execution_count": null,
   "source": [],
   "outputs": [],
   "metadata": {}
  },
  {
   "cell_type": "markdown",
   "source": [
    "## Connected components\n",
    "\n",
    "In a simple network, we can see that for *every* pair of nodes, we can find a path connecting them. This is the definition of a *connected* graph. We can check this property for a given graph:"
   ],
   "metadata": {}
  },
  {
   "cell_type": "code",
   "execution_count": null,
   "source": [
    "G = nx.Graph()\n",
    "\n",
    "G.add_nodes_from([1,2,3,4])\n",
    "\n",
    "G.add_edges_from([(1,2),(2,3),(1,3),(1,4)])\n",
    "\n",
    "nx.draw(G, with_labels=True)"
   ],
   "outputs": [],
   "metadata": {}
  },
  {
   "cell_type": "code",
   "execution_count": null,
   "source": [
    "nx.is_connected(G)"
   ],
   "outputs": [],
   "metadata": {}
  },
  {
   "cell_type": "markdown",
   "source": [
    "Not every graph is connected:"
   ],
   "metadata": {}
  },
  {
   "cell_type": "code",
   "execution_count": null,
   "source": [
    "G = nx.Graph()\n",
    "\n",
    "nx.add_cycle(G,[1,2,3])\n",
    "G.add_edge(4,5)\n",
    "\n",
    "nx.draw(G, with_labels=True)"
   ],
   "outputs": [],
   "metadata": {}
  },
  {
   "cell_type": "code",
   "execution_count": null,
   "source": [
    "nx.is_connected(G)"
   ],
   "outputs": [],
   "metadata": {}
  },
  {
   "cell_type": "markdown",
   "source": [
    "And NetworkX will raise an error if you ask for a path between nodes where none exists:"
   ],
   "metadata": {}
  },
  {
   "cell_type": "code",
   "execution_count": null,
   "source": [
    "nx.has_path(G, 3, 5)"
   ],
   "outputs": [],
   "metadata": {}
  },
  {
   "cell_type": "code",
   "execution_count": null,
   "source": [
    "nx.shortest_path(G, 3, 5)"
   ],
   "outputs": [],
   "metadata": {
    "scrolled": true,
    "tags": [
     "raises-exception"
    ]
   }
  },
  {
   "cell_type": "markdown",
   "source": [
    "Visually, we can identify two connected components in our graph. Let's verify this:"
   ],
   "metadata": {}
  },
  {
   "cell_type": "code",
   "execution_count": null,
   "source": [
    "nx.number_connected_components(G)"
   ],
   "outputs": [],
   "metadata": {}
  },
  {
   "cell_type": "markdown",
   "source": [
    "The `nx.connected_components()` function takes a graph and returns a list of sets of node names, one such set for each connected component. Verify that the two sets in the following list correspond to the two connected components in the drawing of the graph above:"
   ],
   "metadata": {}
  },
  {
   "cell_type": "code",
   "execution_count": null,
   "source": [
    "list(nx.connected_components(G))"
   ],
   "outputs": [],
   "metadata": {}
  },
  {
   "cell_type": "markdown",
   "source": [
    "We often care about the largest connected component (lcc), which is sometimes referred to as the giant component. We can make use of Python's builtin `max` function in order to obtain the largest connected component. By default, Python's `max` function sorts things in lexicographic (i.e. alphabetical) order, which is not helpful here. We want the maximum connected component when sorted in order of their sizes, so we pass `len` as a key function:"
   ],
   "metadata": {}
  },
  {
   "cell_type": "code",
   "execution_count": null,
   "source": [
    "max(nx.connected_components(G), key=len)"
   ],
   "outputs": [],
   "metadata": {}
  },
  {
   "cell_type": "markdown",
   "source": [
    "generate the actual subgraph consisting of the largest connected component with the `G.subgraph()` function:"
   ],
   "metadata": {}
  },
  {
   "cell_type": "code",
   "execution_count": null,
   "source": [
    "core_nodes = max(nx.connected_components(G), key=len)\n",
    "core = G.subgraph(core_nodes)\n",
    "\n",
    "nx.draw(core, with_labels=True)"
   ],
   "outputs": [],
   "metadata": {}
  },
  {
   "cell_type": "markdown",
   "source": [
    "Those of you using tab-completion will also notice a `nx.connected_component_subgraphs()` function. This can also be used to get the core subgraph but the method shown is more efficient when you only care about the largest connected component."
   ],
   "metadata": {}
  },
  {
   "cell_type": "markdown",
   "source": [
    "# 4. Directed paths & components\n",
    "\n",
    "Let's extend these ideas about paths and connected components to directed graphs."
   ],
   "metadata": {}
  },
  {
   "cell_type": "code",
   "execution_count": null,
   "source": [
    "D = nx.DiGraph()\n",
    "D.add_edges_from([\n",
    "    (1,2),\n",
    "    (2,3),\n",
    "    (3,2), (3,4), (3,5),\n",
    "    (4,2), (4,5), (4,6),\n",
    "    (5,6),\n",
    "    (6,4),\n",
    "])\n",
    "nx.draw(D, with_labels=True)"
   ],
   "outputs": [],
   "metadata": {}
  },
  {
   "cell_type": "markdown",
   "source": [
    "### Directed paths\n",
    "\n",
    "We know that in a directed graph, an edge from an arbitrary node $u$ to an arbitrary node $v$ does not imply that an edge exists from $v$ to $u$. Since paths must follow edge direction in directed graphs, the same asymmetry applies for paths. Observe that this graph has a path from 1 to 4, but not in the reverse direction."
   ],
   "metadata": {}
  },
  {
   "cell_type": "code",
   "execution_count": null,
   "source": [
    "nx.has_path(D, 1, 4)"
   ],
   "outputs": [],
   "metadata": {}
  },
  {
   "cell_type": "code",
   "execution_count": null,
   "source": [
    "nx.has_path(D, 4, 1)"
   ],
   "outputs": [],
   "metadata": {}
  },
  {
   "cell_type": "markdown",
   "source": [
    "The other NetworkX functions dealing with paths take this asymmetry into account as well:"
   ],
   "metadata": {}
  },
  {
   "cell_type": "code",
   "execution_count": null,
   "source": [
    "nx.shortest_path(D, 2, 5)"
   ],
   "outputs": [],
   "metadata": {}
  },
  {
   "cell_type": "code",
   "execution_count": null,
   "source": [
    "nx.shortest_path(D, 5, 2)"
   ],
   "outputs": [],
   "metadata": {}
  },
  {
   "cell_type": "markdown",
   "source": [
    "Since there is no edge from 5 to 3, the shortest path from 5 to 2 cannot simply backtrack the shortest path from 2 to 5 -- it has to go a longer route through nodes 6 and 4."
   ],
   "metadata": {}
  },
  {
   "cell_type": "markdown",
   "source": [
    "### Directed components"
   ],
   "metadata": {}
  },
  {
   "cell_type": "markdown",
   "source": [
    "Directed networks have two kinds of connectivity. *Strongly connected* means that there exists a directed path between every pair of nodes, i.e., that from any node we can get to any other node while following edge directionality. Think of cars on a network of one-way streets: they can't drive against the flow of traffic."
   ],
   "metadata": {}
  },
  {
   "cell_type": "code",
   "execution_count": null,
   "source": [
    "nx.is_strongly_connected(D)"
   ],
   "outputs": [],
   "metadata": {}
  },
  {
   "cell_type": "markdown",
   "source": [
    "*Weakly connected* means that there exist a path between every pair of nodes, regardless of direction. Think about pedestrians on a network of one-way streets: they walk on the sidewalks so they don't care about the direction of traffic."
   ],
   "metadata": {}
  },
  {
   "cell_type": "code",
   "execution_count": null,
   "source": [
    "nx.is_weakly_connected(D)"
   ],
   "outputs": [],
   "metadata": {}
  },
  {
   "cell_type": "markdown",
   "source": [
    "If a network is strongly connected, it is also weakly connected. The converse is not always true, as seen in this example.\n",
    "\n",
    "The `is_connected` function for undirected graphs will raise an error when given a directed graph."
   ],
   "metadata": {}
  },
  {
   "cell_type": "code",
   "execution_count": null,
   "source": [
    "# This will raise an error\n",
    "nx.is_connected(D)"
   ],
   "outputs": [],
   "metadata": {
    "tags": [
     "raises-exception"
    ]
   }
  },
  {
   "cell_type": "markdown",
   "source": [
    "In the directed case, instead of `nx.connected_components` we now have `nx.weakly_connected_components` and `nx.strongly_connected_components`:"
   ],
   "metadata": {}
  },
  {
   "cell_type": "code",
   "execution_count": null,
   "source": [
    "list(nx.weakly_connected_components(D))"
   ],
   "outputs": [],
   "metadata": {}
  },
  {
   "cell_type": "code",
   "execution_count": null,
   "source": [
    "list(nx.strongly_connected_components(D))"
   ],
   "outputs": [],
   "metadata": {}
  },
  {
   "cell_type": "markdown",
   "source": [
    "# 5. The Vienna-subway-network "
   ],
   "metadata": {}
  },
  {
   "cell_type": "code",
   "execution_count": null,
   "source": [
    "Image(path + 'U-Bahnnetz_Wien_2019.png')"
   ],
   "outputs": [],
   "metadata": {}
  },
  {
   "cell_type": "code",
   "execution_count": null,
   "source": [
    "# for more complex datasets it is sometimes necessary to parse them yourself\n",
    "# in order to construct a network\n",
    "\n",
    "G_subway = nx.Graph()\n",
    "f = open(path + 'Vienna_subway.csv','r')\n",
    "lines = f.readlines()\n",
    "for line in lines[1:]:\n",
    "    start_node = line.strip().split(';')[0]\n",
    "    end_node = line.strip().split(';')[1]\n",
    "    color = line.strip().split(';')[3]\n",
    "    G_subway.add_edge(start_node,end_node,color=color)\n",
    "f.close()\n"
   ],
   "outputs": [],
   "metadata": {}
  },
  {
   "cell_type": "code",
   "execution_count": null,
   "source": [
    "# a simple layout can be done by the networkx function spring_layout\n",
    "# it basically considers the nodes as charged particles that repell each other \n",
    "# and edges as springs that attract connected nodes\n",
    "\n",
    "print('# nodes: ', G_subway.number_of_nodes())\n",
    "print('# edges: ', G_subway.number_of_edges())\n",
    "\n",
    "colors = [G_subway[u][v]['color'] for u,v in G_subway.edges]\n",
    "\n",
    "posG = nx.spring_layout(G_subway,iterations=200)\n",
    "plt.figure(figsize=(15,15))\n",
    "nx.draw_networkx(G_subway,pos = posG, node_size=50, node_color='#1f78b4',with_labels=1)\n",
    "nx.draw_networkx_edges(G_subway,pos = posG,edge_color = colors,width=5)"
   ],
   "outputs": [],
   "metadata": {}
  },
  {
   "cell_type": "markdown",
   "source": [
    "# EXERCISE 3 (4+1 pts)\n",
    "\n",
    "o Find the hub (station with the most connections) computationally\n",
    "\n",
    "o Let's assume the subway always needs 2.5 minutes between the stations. What is the average traveling time for randomly chosen departure- and destination points? How long would the longest travel take (without detours)?\n",
    "\n",
    "o Compute and plot the shortest path length distribution for the subway network.\n",
    "\n",
    "o Write your own subway app: Make a function that get the subway network, a start and end station and returns the shortest connection. Try it out with start='Schoenbrunn' and end='Donauinsel'. To avoid running into to many tourists you want to get around 'Stephansdom'. How does that change your result?\n",
    "\n",
    "o Advanced (voluntarily) - Perturbations/Vulnerabilities: Suppose your app is connected to a news feed that informs your system about temporally occuring traffic perturbations or station closures. Add a optional argument to your function that get a station to avoid. (+1 pt)"
   ],
   "metadata": {}
  },
  {
   "cell_type": "code",
   "execution_count": null,
   "source": [],
   "outputs": [],
   "metadata": {}
  }
 ],
 "metadata": {
  "kernelspec": {
   "name": "python3",
   "display_name": "Python 3.7.0 64-bit"
  },
  "language_info": {
   "codemirror_mode": {
    "name": "ipython",
    "version": 3
   },
   "file_extension": ".py",
   "mimetype": "text/x-python",
   "name": "python",
   "nbconvert_exporter": "python",
   "pygments_lexer": "ipython3",
   "version": "3.7.0"
  },
  "interpreter": {
   "hash": "aee8b7b246df8f9039afb4144a1f6fd8d2ca17a180786b69acc140d282b71a49"
  }
 },
 "nbformat": 4,
 "nbformat_minor": 1
}