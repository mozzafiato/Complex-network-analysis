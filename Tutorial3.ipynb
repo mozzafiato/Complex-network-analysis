{
 "cells": [
  {
   "cell_type": "code",
   "execution_count": 49,
   "metadata": {
    "collapsed": true
   },
   "outputs": [],
   "source": [
    "import itertools\n",
    "import random as rd\n",
    "import numpy as np\n",
    "import matplotlib.pyplot as plt\n",
    "%matplotlib inline\n",
    "import networkx as nx"
   ]
  },
  {
   "cell_type": "markdown",
   "metadata": {},
   "source": [
    "# Chapter 3\n",
    "\n",
    "Contents:\n",
    "1. [Python's random module](#1.-Python's-random-module)\n",
    "2. [Random network model](#2.-Random-Network-Model)\n",
    "\n",
    "\n",
    "For each of the models presented in this tutorial, we present the algorithm, an example implementation, and the corresponding NetworkX code function to generate the model. The implementations provided in this tutorial are written for clarity, not for efficiency; it's best to use the NetworkX functions when doing real analysis work."
   ]
  },
  {
   "cell_type": "markdown",
   "metadata": {},
   "source": [
    "## 1. Python's `random` module\n",
    "\n",
    "Many network models rely on randomness in their generative algorithms. Python's [random module](https://docs.python.org/3.7/library/random.html) provides four key functions of use when coding network models.\n",
    "\n",
    "### `random.random`\n",
    "\n",
    "Often in an algorithm, we need something to happen with some probability $p$. The canonical way to decide whether or not such an event happens is to generate a random number $r$ between 0 and 1, and if $r < p$, then the event occurs. The [random.random()](https://docs.python.org/3.7/library/random.html#random.random) function returns just such a random number in the interval [0, 1).\n",
    "\n",
    "For a simple example, consider an unfair coin that comes up heads 75% of the time. We can write the following code to flip such a coin 10 times, reporting the outcome each time:"
   ]
  },
  {
   "cell_type": "code",
   "execution_count": 11,
   "metadata": {},
   "outputs": [
    {
     "name": "stdout",
     "output_type": "stream",
     "text": [
      "Heads\n",
      "Heads\n",
      "Heads\n",
      "Heads\n",
      "Tails\n",
      "Heads\n",
      "Heads\n",
      "Heads\n",
      "Heads\n",
      "Heads\n"
     ]
    }
   ],
   "source": [
    "p = 0.75\n",
    "\n",
    "# Do this 10 times\n",
    "for _ in range(10):\n",
    "    r = random.random()\n",
    "    if r < p:\n",
    "        print('Heads')\n",
    "    else:\n",
    "        print('Tails')"
   ]
  },
  {
   "cell_type": "markdown",
   "metadata": {},
   "source": [
    "As we would expect from a random process, executing the previous cell again will generate a different sequence of flips -- each one is independently generated.\n",
    "\n",
    "###  `random.choice`\n",
    "\n",
    "When we have a population of discrete choices and we need to select one at random, we use [random.choice()](https://docs.python.org/3.7/library/random.html#random.choice). For example, instead of \"[eeny, meeny, miny, moe](https://en.wikipedia.org/wiki/Eeny,_meeny,_miny,_moe),\" we can use random.choice to choose a random name:"
   ]
  },
  {
   "cell_type": "code",
   "execution_count": 12,
   "metadata": {},
   "outputs": [
    {
     "data": {
      "text/plain": [
       "'Alice'"
      ]
     },
     "execution_count": 12,
     "metadata": {},
     "output_type": "execute_result"
    }
   ],
   "source": [
    "names = ['Alice', 'Bob', 'Cathy', 'Dan']\n",
    "random.choice(names)"
   ]
  },
  {
   "cell_type": "markdown",
   "metadata": {},
   "source": [
    "### `random.sample`\n",
    "\n",
    "If we have a collection and we need to select more than one element without replacement, we use [random.sample()](https://docs.python.org/3.7/library/random.html#random.sample). For example, to choose two nodes at random from the nodes in a graph, we can use the following:"
   ]
  },
  {
   "cell_type": "code",
   "execution_count": 13,
   "metadata": {},
   "outputs": [
    {
     "data": {
      "text/plain": [
       "[0, 3]"
      ]
     },
     "execution_count": 13,
     "metadata": {},
     "output_type": "execute_result"
    }
   ],
   "source": [
    "G = nx.cycle_graph(5)\n",
    "random.sample(G.nodes, 2)"
   ]
  },
  {
   "cell_type": "markdown",
   "metadata": {},
   "source": [
    "### `random.choices`\n",
    "\n",
    "We use [random.choices()](https://docs.python.org/3.7/library/random.html#random.choices) when we need to choose an element from a collection when the chances of selecting each element are not identical.\n",
    "\n",
    "For an example, let's assume Alice, Bob, and Carol are in a raffle drawing. Alice bought one ticket, Bob bought three tickets, and Carol bought four tickets. We can simulate ten different draws of this raffle, replacing the drawn ticket each time, with the following code:"
   ]
  },
  {
   "cell_type": "code",
   "execution_count": 14,
   "metadata": {},
   "outputs": [
    {
     "name": "stdout",
     "output_type": "stream",
     "text": [
      "['Carol']\n",
      "['Carol']\n",
      "['Carol']\n",
      "['Carol']\n",
      "['Bob']\n",
      "['Bob']\n",
      "['Carol']\n",
      "['Bob']\n",
      "['Alice']\n",
      "['Carol']\n"
     ]
    }
   ],
   "source": [
    "names = ['Alice', 'Bob', 'Carol']\n",
    "tickets = [1, 3, 4]\n",
    "\n",
    "for _ in range(10):\n",
    "    print(random.choices(names, tickets))"
   ]
  },
  {
   "cell_type": "markdown",
   "metadata": {},
   "source": [
    "Running the above cell should give what we expect: Carol wins the drawing most often, with Bob winning some times, and Alice winning occasionally. Of course this outcome depends on the luck of the draw!\n",
    "\n",
    "By specifying the keyword argument `k=`, we can choose *k* items from the collection *with replacement*:"
   ]
  },
  {
   "cell_type": "code",
   "execution_count": 15,
   "metadata": {},
   "outputs": [
    {
     "data": {
      "text/plain": [
       "['Carol',\n",
       " 'Bob',\n",
       " 'Carol',\n",
       " 'Bob',\n",
       " 'Bob',\n",
       " 'Carol',\n",
       " 'Alice',\n",
       " 'Carol',\n",
       " 'Carol',\n",
       " 'Carol']"
      ]
     },
     "execution_count": 15,
     "metadata": {},
     "output_type": "execute_result"
    }
   ],
   "source": [
    "random.choices(names, tickets, k=10)"
   ]
  },
  {
   "cell_type": "markdown",
   "metadata": {},
   "source": [
    "The weights provided to `random.choices` do not have to be integers -- any numeric weights are fine."
   ]
  },
  {
   "cell_type": "markdown",
   "metadata": {},
   "source": [
    "# Exercise 1   (4 pts)\n",
    "\n",
    "o   write a dice function that returns numbers 1,...,6 with equal \n",
    "    probability when it is called \n",
    "\n",
    "o   throw the dice 1000,10.000 and 100.000 times and store the results in a list. \n",
    "    compare the results by drawing a \n",
    "    barplot showing the frequencies for the results with errorbars\n",
    "\n",
    "    (see: https://matplotlib.org/stable/api/_as_gen/matplotlib.pyplot.bar.html)  \n",
    "\n",
    "o   write a biased dice function with a increased propability of 10% to get a 6\n",
    "\n",
    "o   repeat the experiment from above\n",
    "\n",
    "o   find the number of trials which would give you a certain confidence about the dice being biased\n",
    "    (approximate approach: For which number of trials the errorbars separates for the 1...5 bars and the bar representing 6)\n",
    "\n"
   ]
  },
  {
   "cell_type": "code",
   "execution_count": 74,
   "metadata": {},
   "outputs": [],
   "source": []
  },
  {
   "cell_type": "markdown",
   "metadata": {},
   "source": [
    "## 2. Random Network Model\n",
    "\n",
    "The random network model, as formulated by Gilbert, has two parameters: the number of nodes $N$, and the link probability $p$. As in the book text, the algorithm for creating this network is as follows:\n",
    "\n",
    "1. Select a pair of nodes, say i and j.\n",
    "2. Generate a random number r between 0 and 1. If r < p, then add a link between i and j.\n",
    "3. Repeat (1) and (2) for all pairs of nodes.\n",
    "\n",
    "We'll need a couple of tools from Python for this task:\n",
    "\n",
    "### Generating combinations\n",
    "\n",
    "We've previously looped over all nodes in a graph, as well as all graph edges, but this algorithm requires us to loop over all *pairs* of nodes, *i.e.* all possible edges. The `itertools` module in Python's standard library gives us the [combinations()](https://docs.python.org/3.7/library/itertools.html#itertools.combinations) function, an elegant way to loop over pairs of elements in a sequence:"
   ]
  },
  {
   "cell_type": "code",
   "execution_count": 16,
   "metadata": {},
   "outputs": [
    {
     "data": {
      "text/plain": [
       "[(0, 1),\n",
       " (0, 2),\n",
       " (0, 3),\n",
       " (0, 4),\n",
       " (1, 2),\n",
       " (1, 3),\n",
       " (1, 4),\n",
       " (2, 3),\n",
       " (2, 4),\n",
       " (3, 4)]"
      ]
     },
     "execution_count": 16,
     "metadata": {},
     "output_type": "execute_result"
    }
   ],
   "source": [
    "elements = [0, 1, 2, 3, 4]\n",
    "list(itertools.combinations(elements, 2))"
   ]
  },
  {
   "cell_type": "markdown",
   "metadata": {},
   "source": [
    "The second argument to `itertools.combinations()` is the length of the sequences we want in the output. Since we want pairs, we'll specify 2. Note the nice properties of the output:\n",
    "\n",
    "1. No repeat elements -- we don't want to consider self-loops like `('a', 'a')`.\n",
    "2. Pairs are in sorted order -- `('a', 'b')` and `('b', 'a')` are the same edge in an undirected graph.\n",
    "\n",
    "We can thus use this to loop over all pairs of nodes in a graph:"
   ]
  },
  {
   "cell_type": "code",
   "execution_count": 17,
   "metadata": {},
   "outputs": [
    {
     "data": {
      "text/plain": [
       "[(0, 1),\n",
       " (0, 2),\n",
       " (0, 3),\n",
       " (0, 4),\n",
       " (1, 2),\n",
       " (1, 3),\n",
       " (1, 4),\n",
       " (2, 3),\n",
       " (2, 4),\n",
       " (3, 4)]"
      ]
     },
     "execution_count": 17,
     "metadata": {},
     "output_type": "execute_result"
    }
   ],
   "source": [
    "G = nx.Graph()\n",
    "G.add_nodes_from(elements)\n",
    "\n",
    "list(itertools.combinations(G.nodes, 2))"
   ]
  },
  {
   "cell_type": "markdown",
   "metadata": {},
   "source": [
    "### Gilbert random graph model\n",
    "\n",
    "With these tools in our toolbelt, we can code the algorithm for the Gilbert random graph model."
   ]
  },
  {
   "cell_type": "code",
   "execution_count": 107,
   "metadata": {
    "collapsed": true
   },
   "outputs": [],
   "source": [
    "def gnp_random_graph(N, p):\n",
    "    G = nx.Graph()\n",
    "    G.add_nodes_from(range(N))\n",
    "    \n",
    "    for i, j in itertools.combinations(G.nodes, 2):\n",
    "        r = random.random()\n",
    "        if r < p:\n",
    "            G.add_edge(i, j)\n",
    "        # Do nothing if r >= p\n",
    "        \n",
    "    return G"
   ]
  },
  {
   "cell_type": "markdown",
   "metadata": {},
   "source": [
    "We can use this function to generate a graph. Since this is a random graph, each execution of the following code will generate a different graph. "
   ]
  },
  {
   "cell_type": "code",
   "execution_count": 111,
   "metadata": {},
   "outputs": [
    {
     "name": "stdout",
     "output_type": "stream",
     "text": [
      "Graph has 20 edges.\n"
     ]
    },
    {
     "data": {
      "image/png": "[encoded data removed]",
      "text/plain": [
       "<Figure size 432x288 with 1 Axes>"
      ]
     },
     "metadata": {},
     "output_type": "display_data"
    }
   ],
   "source": [
    "G = gnp_random_graph(16, 0.15)\n",
    "nx.draw(G)\n",
    "print('Graph has', G.number_of_edges(), 'edges.')"
   ]
  },
  {
   "cell_type": "markdown",
   "metadata": {},
   "source": [
    "Run the above cell a few times and note that the number of edges varies slightly among random graphs generated with the same parameters. This is because each pair of nodes has an independent chance of being an edge."
   ]
  },
  {
   "cell_type": "markdown",
   "metadata": {},
   "source": [
    "### Erdös-Rényi random graph model\n",
    "\n",
    "Instead of specifying the link probability $p$, we can also generate a graph of $N$ nodes with exactly $M$ edges by using `random.sample()` to choose M of the possible edges generated with `itertools.combinations()`:"
   ]
  },
  {
   "cell_type": "code",
   "execution_count": 112,
   "metadata": {
    "collapsed": true
   },
   "outputs": [],
   "source": [
    "def gnm_random_graph(N, M):\n",
    "    G = nx.Graph()\n",
    "    G.add_nodes_from(range(N))\n",
    "    \n",
    "    possible_edges = itertools.combinations(G.nodes, 2)\n",
    "    edges_to_add = random.sample(list(possible_edges), M)\n",
    "    G.add_edges_from(edges_to_add)\n",
    "    \n",
    "    return G"
   ]
  },
  {
   "cell_type": "code",
   "execution_count": 113,
   "metadata": {},
   "outputs": [
    {
     "data": {
      "image/png": "[encoded data removed]",
      "text/plain": [
       "<Figure size 432x288 with 1 Axes>"
      ]
     },
     "metadata": {},
     "output_type": "display_data"
    }
   ],
   "source": [
    "G = gnm_random_graph(16, 18)\n",
    "nx.draw(G)"
   ]
  },
  {
   "cell_type": "markdown",
   "metadata": {},
   "source": [
    "### NetworkX functions\n",
    "\n",
    "NetworkX has a function for the $G_{n,p}$ random graph specifying number of nodes $N$ and link probability $p$:  [gnp_random_graph()](https://networkx.github.io/documentation/stable/reference/generated/networkx.generators.random_graphs.gnp_random_graph.html).\n",
    "\n",
    "In addition, NetworkX provides [gnm_random_graph()](https://networkx.github.io/documentation/stable/reference/generated/networkx.generators.random_graphs.gnm_random_graph.html), which generates a $G_{n,m}$ graph, where we specify the number of nodes $N$ and the desired number of edges $M$."
   ]
  },
  {
   "cell_type": "markdown",
   "metadata": {},
   "source": [
    "# Exercise 2  (4 pts)\n",
    "\n",
    "Consider a Gilbert random graph with 500 nodes and iterate over the connection probability p\n",
    "\n",
    "o   find a meanigful range for p and measure the number of connected components, the size of the largest connected component, \n",
    "    the average degree and the average shortest path length (spl)\n",
    "\n",
    "o   plot all measured quatities over p so that the different regimes become apparent\n",
    "\n",
    "o   plot the the largest connected component and the the average spl over the average degree\n"
   ]
  },
  {
   "cell_type": "code",
   "execution_count": null,
   "metadata": {},
   "outputs": [],
   "source": []
  },
  {
   "cell_type": "markdown",
   "metadata": {},
   "source": [
    "# Exercise 3 (2 pts)\n",
    "\n",
    "Compare the random graph with a regular lattice \n",
    "\n",
    "o generate a 2d lattice as a network (`nx.grid_2d_graph(n,m)`) and make a layout using `nx.spring_layout(G,iterations = 100)` \n",
    "\n",
    "o draw the network, try using more iteration steps\n",
    "\n",
    "o iterate over a meaningful range of network sizes and measure the average spl for both, the random graph and the lattice graph and  \n",
    "plot both in one figure\n"
   ]
  },
  {
   "cell_type": "code",
   "execution_count": null,
   "metadata": {},
   "outputs": [],
   "source": []
  },
  {
   "cell_type": "code",
   "execution_count": null,
   "metadata": {},
   "outputs": [],
   "source": []
  }
 ],
 "metadata": {
  "interpreter": {
   "hash": "aee8b7b246df8f9039afb4144a1f6fd8d2ca17a180786b69acc140d282b71a49"
  },
  "kernelspec": {
   "display_name": "Python 3",
   "language": "python",
   "name": "python3"
  },
  "language_info": {
   "codemirror_mode": {
    "name": "ipython",
    "version": 3
   },
   "file_extension": ".py",
   "mimetype": "text/x-python",
   "name": "python",
   "nbconvert_exporter": "python",
   "pygments_lexer": "ipython3",
   "version": "3.7.4"
  }
 },
 "nbformat": 4,
 "nbformat_minor": 2
}
